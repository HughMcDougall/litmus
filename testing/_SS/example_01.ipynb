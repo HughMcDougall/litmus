{
 "cells": [
  {
   "cell_type": "markdown",
   "metadata": {
    "collapsed": false,
    "jupyter": {
     "outputs_hidden": false
    },
    "pycharm": {
     "name": "#%% md\n"
    }
   },
   "source": []
  },
  {
   "cell_type": "markdown",
   "metadata": {
    "collapsed": false,
    "jupyter": {
     "outputs_hidden": false
    },
    "pycharm": {
     "name": "#%% md\n"
    }
   },
   "source": [
    "# LITMUS Run Example\n",
    "\n",
    "In this file, we demonstrate how to use litmus's hessian scan in the most bare-bones way. First, importa ll relevant files:"
   ]
  },
  {
   "cell_type": "code",
   "metadata": {
    "pycharm": {
     "name": "#%%\n"
    }
   },
   "source": [
    "import numpy as np\n",
    "import matplotlib.pyplot as plt\n",
    "\n",
    "import litmus\n",
    "print(litmus.__version__)\n",
    "print(\"!\")"
   ],
   "outputs": [],
   "execution_count": null
  },
  {
   "cell_type": "code",
   "metadata": {
    "pycharm": {
     "name": "#%%\n"
    }
   },
   "source": [
    "\n",
    "mymock = litmus.mocks.mock(3)\n",
    "mymock.plot()\n",
    "\n",
    "my_model = litmus.models.GP_simple()\n",
    "\n",
    "fitting_method = litmus.fitting_methods.hessian_scan(stat_model=my_model,\n",
    "                                                  Nlags=32,\n",
    "                                                  init_samples=5_000,\n",
    "                                                  grid_bunching=0.8,\n",
    "                                                  optimizer_args={'tol': 1E-3,\n",
    "                                                                  'maxiter': 256,\n",
    "                                                                  'increase_factor': 1.1,\n",
    "                                                                  },\n",
    "                                                  optimizer_args_init={'tol': 1E-4,\n",
    "                                                                  'maxiter': 1024,\n",
    "                                                                  'increase_factor': 1.01,\n",
    "                                                                  },\n",
    "                                                  reverse=False,\n",
    "                                                  debug=False\n",
    "                                                  )\n",
    "\n",
    "litmus_handler = litmus.LITMUS(fitting_method)\n",
    "data = my_model.lc_to_data(mymock.lc_1, mymock.lc_2)\n",
    "\n",
    "seed_params = my_model.find_seed(data)\n",
    "litmus_handler.add_lightcurve(mymock.lc_1)\n",
    "litmus_handler.add_lightcurve(mymock.lc_2)"
   ],
   "outputs": [],
   "execution_count": null
  },
  {
   "cell_type": "code",
   "metadata": {},
   "source": [
    "litmus_handler.fitproc.set_config(seed_params = {'logtau':5.6})\n",
    "litmus_handler.fitproc.estimate_MAP(mymock.lc_1, mymock.lc_2)"
   ],
   "outputs": [],
   "execution_count": null
  },
  {
   "cell_type": "code",
   "metadata": {
    "pycharm": {
     "name": "#%%\n"
    },
    "scrolled": true
   },
   "source": [
    "litmus_handler.fit()"
   ],
   "outputs": [],
   "execution_count": null
  },
  {
   "cell_type": "code",
   "metadata": {
    "pycharm": {
     "name": "#%%\n"
    }
   },
   "source": [
    "litmus_handler.lag_plot()\n",
    "litmus_handler.plot_parameters()\n",
    "plt.show()\n"
   ],
   "outputs": [],
   "execution_count": null
  }
 ],
 "metadata": {
  "kernelspec": {
   "display_name": "Python 3 (ipykernel)",
   "language": "python",
   "name": "python3"
  },
  "language_info": {
   "codemirror_mode": {
    "name": "ipython",
    "version": 3
   },
   "file_extension": ".py",
   "mimetype": "text/x-python",
   "name": "python",
   "nbconvert_exporter": "python",
   "pygments_lexer": "ipython3",
   "version": "3.11.4"
  }
 },
 "nbformat": 4,
 "nbformat_minor": 4
}

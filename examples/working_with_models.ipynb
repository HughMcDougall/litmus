{
 "cells": [
  {
   "metadata": {},
   "cell_type": "markdown",
   "source": "# Working with models",
   "id": "a979481d43790a7a"
  },
  {
   "metadata": {},
   "cell_type": "code",
   "outputs": [],
   "execution_count": null,
   "source": [
    "import litmus.models\n",
    "from litmus import *\n",
    "import matplotlib.pyplot as plt\n",
    "import numpy as np\n",
    "from litmus._utils import dict_extend"
   ],
   "id": "ee6d51fbbbb2411f"
  }
 ],
 "metadata": {
  "kernelspec": {
   "display_name": "Python 3",
   "language": "python",
   "name": "python3"
  },
  "language_info": {
   "codemirror_mode": {
    "name": "ipython",
    "version": 2
   },
   "file_extension": ".py",
   "mimetype": "text/x-python",
   "name": "python",
   "nbconvert_exporter": "python",
   "pygments_lexer": "ipython2",
   "version": "2.7.6"
  }
 },
 "nbformat": 4,
 "nbformat_minor": 5
}
